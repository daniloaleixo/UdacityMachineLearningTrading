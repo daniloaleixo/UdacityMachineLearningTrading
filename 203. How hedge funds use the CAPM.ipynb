{
 "cells": [
  {
   "cell_type": "markdown",
   "metadata": {},
   "source": [
    "# How hedge funds use the CAPM"
   ]
  },
    {
   "cell_type": "markdown",
   "metadata": {
    "collapsed": true,
    "deletable": true,
    "editable": true
   },
   "source": [
    "### <font color=blue>When is Technical Analysis effective?</font>\n",
    "* Individual indicators weak  \n",
    "* Combinations stronger \n",
    "* Look for contrasts (stock vs. market)  \n",
    "* Shorter time periods"
   ]
  },
  {
   "cell_type": "markdown",
   "metadata": {
    "deletable": true,
    "editable": true
   },
   "source": [
    "### <font color=blue>When does Technial Analysis have value?</font>\n",
    "![TechAnalysis](images/tech_analysis_1.png) \n",
    "\n",
    "#### <font color=red>Indicator: Momentum</font>\n",
    "![Momentum](images/indicator_momentum.png) \n",
    "Range: [-0.5 ~ 0.5]  \n",
    " * -0.5 = -50% drop\n",
    " * 0.5 = 50% up\n",
    " \n",
    "#### <font color=red>Indicator: Simple Moving Average (SMA)</font>\n",
    "![SMA](images/indicator_sma.png) \n",
    "* <font color=blue><b>Proxy for underlying value</b></font>: if you look back over a certain period of time and take the average price, that might represent the true value of the company\n",
    "* <font color=blue><b>Arbitrage opportunity</b></font>: if we see a large excursion from that price, for instance, we should expect that the price is eventually going to come back down to that average. So it's an arbitrage opportunity.<br/>\n",
    "* <font color=blue><b>Quantify the diversion</b></font>: compare the current price with the current moving average, and construct a ratio. For example, we've gotten negative values and positive values, we take particular positive/negative price for day $t$ and divided by the mean for the last n-days. The values are ranging from -50% to 50%.\n",
    " \n",
    "#### <font color=red>Indicator: Bollinger Bands</font>\n",
    "![SMA](images/indicator_bollinger_bands.png) \n",
    "* If low volatility stocks are currently experiencing low volatility, we can use a smaller number for that trigger. \n",
    "* When we see high volatility, we can use a larger number.\n",
    "* We can use standard deviation to accomplish it.\n",
    "* <font color=blue><b>How to use</b></font>: <font color=red>look for cross from outside band to inside band.</font>\n",
    "\n",
    "\n",
    "#### <font color=red>Normalization</font>\n",
    "![Norm](images/tech_analysis_norm.png) \n",
    "* The normalization takes each of these factors and essentially compressses them or stretches them, they vary on average <font color=blue><b>from -1 to +1 with the mean of 0</font>."
   ]
  },
  {
   "cell_type": "code",
   "execution_count": null,
   "metadata": {},
   "outputs": [],
   "source": []
  }
 ],
 "metadata": {
  "kernelspec": {
   "display_name": "Python 3",
   "language": "python",
   "name": "python3"
  },
  "language_info": {
   "codemirror_mode": {
    "name": "ipython",
    "version": 3
   },
   "file_extension": ".py",
   "mimetype": "text/x-python",
   "name": "python",
   "nbconvert_exporter": "python",
   "pygments_lexer": "ipython3",
   "version": "3.7.4"
  }
 },
 "nbformat": 4,
 "nbformat_minor": 2
}
