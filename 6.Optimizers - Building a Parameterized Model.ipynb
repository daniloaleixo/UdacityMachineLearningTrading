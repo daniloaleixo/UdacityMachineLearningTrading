{
 "cells": [
  {
   "cell_type": "markdown",
   "metadata": {},
   "source": [
    "# Minimizer in Python"
   ]
  },
  {
   "cell_type": "code",
   "execution_count": 2,
   "metadata": {
    "collapsed": true
   },
   "outputs": [],
   "source": [
    "import matplotlib.pyplot as plt\n",
    "import numpy as np\n",
    "import pandas as pd\n",
    "import scipy.optimize as spo"
   ]
  },
  {
   "cell_type": "code",
   "execution_count": 3,
   "metadata": {
    "collapsed": true
   },
   "outputs": [],
   "source": [
    "def f(x):\n",
    "    \"\"\" Given a scalar x, return some value (a real number).\"\"\"\n",
    "    y = (x - 1.5)**2 + 0.5\n",
    "    print 'x = {}, y = {}'.format(x, y) # for tracing\n",
    "    return y"
   ]
  },
  {
   "cell_type": "code",
   "execution_count": 5,
   "metadata": {},
   "outputs": [
    {
     "name": "stdout",
     "output_type": "stream",
     "text": [
      "x = [ 2.], y = [ 0.75]\n",
      "x = [ 2.], y = [ 0.75]\n",
      "x = [ 2.00000001], y = [ 0.75000001]\n",
      "x = [ 0.99999999], y = [ 0.75000001]\n",
      "x = [ 1.5], y = [ 0.5]\n",
      "x = [ 1.5], y = [ 0.5]\n",
      "x = [ 1.50000001], y = [ 0.5]\n",
      "Optimization terminated successfully.    (Exit mode 0)\n",
      "            Current function value: [ 0.5]\n",
      "            Iterations: 2\n",
      "            Function evaluations: 7\n",
      "            Gradient evaluations: 2\n",
      "Minima found at:\n",
      "x = [ 1.5], y = [ 0.5]\n"
     ]
    }
   ],
   "source": [
    "x_guess = 2.0\n",
    "min_result = spo.minimize(f, x_guess, method='SLSQP', options={'disp': True})\n",
    "print 'Minima found at:'\n",
    "print 'x = {}, y = {}'.format(min_result.x, min_result.fun)"
   ]
  },
  {
   "cell_type": "markdown",
   "metadata": {},
   "source": [
    "Plot the result:"
   ]
  },
  {
   "cell_type": "code",
   "execution_count": 6,
   "metadata": {},
   "outputs": [
    {
     "name": "stdout",
     "output_type": "stream",
     "text": [
      "x = [ 0.5  0.6  0.7  0.8  0.9  1.   1.1  1.2  1.3  1.4  1.5  1.6  1.7  1.8  1.9\n",
      "  2.   2.1  2.2  2.3  2.4  2.5], y = [ 1.5   1.31  1.14  0.99  0.86  0.75  0.66  0.59  0.54  0.51  0.5   0.51\n",
      "  0.54  0.59  0.66  0.75  0.86  0.99  1.14  1.31  1.5 ]\n"
     ]
    },
    {
     "data": {
      "image/png": "[encoded data removed]",
      "text/plain": [
       "<matplotlib.figure.Figure at 0x110911b50>"
      ]
     },
     "metadata": {},
     "output_type": "display_data"
    }
   ],
   "source": [
    "x_plot = np.linspace(0.5, 2.5, 21)\n",
    "y_plot = f(x_plot)\n",
    "plt.plot(x_plot, y_plot)\n",
    "plt.plot(min_result.x, min_result.fun, 'ro')\n",
    "plt.title('Minima of objective function')\n",
    "plt.show()"
   ]
  },
  {
   "cell_type": "markdown",
   "metadata": {},
   "source": [
    "# Building a Parameterized Model"
   ]
  },
  {
   "cell_type": "markdown",
   "metadata": {},
   "source": [
    "This is a parameterized model:\n",
    "```\n",
    "f(x) = mx + b\n",
    "```\n",
    "\n",
    "In this equation, `m` and `b` are both _parameters_. `m` is also a _coefficient_, a number used to multiply a variable."
   ]
  }
 ],
 "metadata": {
  "kernelspec": {
   "display_name": "Python 2",
   "language": "python",
   "name": "python2"
  },
  "language_info": {
   "codemirror_mode": {
    "name": "ipython",
    "version": 2
   },
   "file_extension": ".py",
   "mimetype": "text/x-python",
   "name": "python",
   "nbconvert_exporter": "python",
   "pygments_lexer": "ipython2",
   "version": "2.7.10"
  }
 },
 "nbformat": 4,
 "nbformat_minor": 2
}