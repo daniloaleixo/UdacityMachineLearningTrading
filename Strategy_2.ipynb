{
  "nbformat": 4,
  "nbformat_minor": 0,
  "metadata": {
    "colab": {
      "name": "Strategy 2.ipynb",
      "provenance": [],
      "authorship_tag": "ABX9TyOKpKhtUNjmWPHdt1QpDyXk",
      "include_colab_link": true
    },
    "kernelspec": {
      "name": "python3",
      "display_name": "Python 3"
    }
  },
  "cells": [
    {
      "cell_type": "markdown",
      "metadata": {
        "id": "view-in-github",
        "colab_type": "text"
      },
      "source": [
        "<a href=\"https://colab.research.google.com/github/daniloaleixo/UdacityMachineLearningTrading/blob/master/Strategy_2.ipynb\" target=\"_parent\"><img src=\"https://colab.research.google.com/assets/colab-badge.svg\" alt=\"Open In Colab\"/></a>"
      ]
    },
    {
      "cell_type": "markdown",
      "metadata": {
        "id": "bZfXTnpQBrUN",
        "colab_type": "text"
      },
      "source": [
        "# Backtesting strategy - II : Intraday resistance breakout strategy\n",
        "\n",
        "Trading with resistance breakout\n",
        "\n",
        "* Breakout rule: breach 20 period rolling max/min price in conjunction with volume breaching rolling max volume \n",
        "* Exit/stop loss signal: Previous price plus/minus 20 period ATR as the rolling stop loss price "
      ]
    },
    {
      "cell_type": "code",
      "metadata": {
        "id": "Ts10U0X7Bx1I",
        "colab_type": "code",
        "colab": {}
      },
      "source": [
        "# =============================================================================\n",
        "# Backtesting strategy - II : Intraday resistance breakout strategy\n",
        "# Author : Mayank Rasu\n",
        "\n",
        "# Please report bug/issues in the Q&A section\n",
        "# ============================================================================="
      ],
      "execution_count": 0,
      "outputs": []
    },
    {
      "cell_type": "code",
      "metadata": {
        "id": "I1znacxEB9xj",
        "colab_type": "code",
        "colab": {
          "base_uri": "https://localhost:8080/",
          "height": 255
        },
        "outputId": "6b65a397-c7a2-4f8c-99ce-e0c2f5e41c50"
      },
      "source": [
        "!pip install alpha_vantage"
      ],
      "execution_count": 3,
      "outputs": [
        {
          "output_type": "stream",
          "text": [
            "Collecting alpha_vantage\n",
            "  Downloading https://files.pythonhosted.org/packages/c9/72/c3a2a8371f94515a2f0b1203dc152cf8d82dc17baeea0c1af5a23d10eca7/alpha_vantage-2.1.3.tar.gz\n",
            "Requirement already satisfied: requests in /usr/local/lib/python3.6/dist-packages (from alpha_vantage) (2.21.0)\n",
            "Requirement already satisfied: idna<2.9,>=2.5 in /usr/local/lib/python3.6/dist-packages (from requests->alpha_vantage) (2.8)\n",
            "Requirement already satisfied: urllib3<1.25,>=1.21.1 in /usr/local/lib/python3.6/dist-packages (from requests->alpha_vantage) (1.24.3)\n",
            "Requirement already satisfied: chardet<3.1.0,>=3.0.2 in /usr/local/lib/python3.6/dist-packages (from requests->alpha_vantage) (3.0.4)\n",
            "Requirement already satisfied: certifi>=2017.4.17 in /usr/local/lib/python3.6/dist-packages (from requests->alpha_vantage) (2019.11.28)\n",
            "Building wheels for collected packages: alpha-vantage\n",
            "  Building wheel for alpha-vantage (setup.py) ... \u001b[?25l\u001b[?25hdone\n",
            "  Created wheel for alpha-vantage: filename=alpha_vantage-2.1.3-cp36-none-any.whl size=14870 sha256=7e4d1dd759059a1ee6cf3cac89f24a170da5497df64817efc75551fe7aa75d27\n",
            "  Stored in directory: /root/.cache/pip/wheels/d4/75/c2/483b0a988fd965b1128c1396a0ffadfb8903bd2bb569220048\n",
            "Successfully built alpha-vantage\n",
            "Installing collected packages: alpha-vantage\n",
            "Successfully installed alpha-vantage-2.1.3\n"
          ],
          "name": "stdout"
        }
      ]
    },
    {
      "cell_type": "code",
      "metadata": {
        "id": "b-te7J_qBtVN",
        "colab_type": "code",
        "colab": {}
      },
      "source": [
        "import numpy as np\n",
        "import pandas as pd\n",
        "from alpha_vantage.timeseries import TimeSeries\n",
        "import copy\n",
        "import pathlib"
      ],
      "execution_count": 0,
      "outputs": []
    },
    {
      "cell_type": "code",
      "metadata": {
        "id": "GRL4u6vMBzfb",
        "colab_type": "code",
        "colab": {}
      },
      "source": [
        "def ATR(DF,n):\n",
        "    \"function to calculate True Range and Average True Range\"\n",
        "    df = DF.copy()\n",
        "    df['H-L']=abs(df['High']-df['Low'])\n",
        "    df['H-PC']=abs(df['High']-df['Adj Close'].shift(1))\n",
        "    df['L-PC']=abs(df['Low']-df['Adj Close'].shift(1))\n",
        "    df['TR']=df[['H-L','H-PC','L-PC']].max(axis=1,skipna=False)\n",
        "    df['ATR'] = df['TR'].rolling(n).mean()\n",
        "    #df['ATR'] = df['TR'].ewm(span=n,adjust=False,min_periods=n).mean()\n",
        "    df2 = df.drop(['H-L','H-PC','L-PC'],axis=1)\n",
        "    return df2['ATR']\n",
        "\n",
        "def CAGR(DF):\n",
        "    \"function to calculate the Cumulative Annual Growth Rate of a trading strategy\"\n",
        "    df = DF.copy()\n",
        "    df[\"cum_return\"] = (1 + df[\"ret\"]).cumprod()\n",
        "    n = len(df)/(252*78)\n",
        "    CAGR = (df[\"cum_return\"].tolist()[-1])**(1/n) - 1\n",
        "    return CAGR\n",
        "\n",
        "def volatility(DF):\n",
        "    \"function to calculate annualized volatility of a trading strategy\"\n",
        "    df = DF.copy()\n",
        "    vol = df[\"ret\"].std() * np.sqrt(252*78)\n",
        "    return vol\n",
        "\n",
        "def sharpe(DF,rf):\n",
        "    \"function to calculate sharpe ratio ; rf is the risk free rate\"\n",
        "    df = DF.copy()\n",
        "    sr = (CAGR(df) - rf)/volatility(df)\n",
        "    return sr\n",
        "    \n",
        "\n",
        "def max_dd(DF):\n",
        "    \"function to calculate max drawdown\"\n",
        "    df = DF.copy()\n",
        "    df[\"cum_return\"] = (1 + df[\"ret\"]).cumprod()\n",
        "    df[\"cum_roll_max\"] = df[\"cum_return\"].cummax()\n",
        "    df[\"drawdown\"] = df[\"cum_roll_max\"] - df[\"cum_return\"]\n",
        "    df[\"drawdown_pct\"] = df[\"drawdown\"]/df[\"cum_roll_max\"]\n",
        "    max_dd = df[\"drawdown_pct\"].max()\n",
        "    return max_dd"
      ],
      "execution_count": 0,
      "outputs": []
    },
    {
      "cell_type": "code",
      "metadata": {
        "id": "otrcWlOaCCMF",
        "colab_type": "code",
        "colab": {
          "base_uri": "https://localhost:8080/",
          "height": 527
        },
        "outputId": "fa12034a-377d-48d8-ee64-6c4da08b242a"
      },
      "source": [
        "# Download historical data (monthly) for selected stocks\n",
        "\n",
        "tickers = [\"MSFT\",\"AAPL\",\"FB\",\"AMZN\",\"INTC\", \"CSCO\",\"VZ\",\"IBM\",\"QCOM\",\"LYFT\"]\n",
        "\n",
        "ohlc_intraday = {} # directory with ohlc value for each stock            \n",
        "key_path = \"key.text\"\n",
        "ts = TimeSeries(key=open(str(pathlib.Path().absolute()) + \"/\" + key_path,'r').read(), output_format='pandas')\n",
        "\n",
        "attempt = 0 # initializing passthrough variable\n",
        "drop = [] # initializing list to store tickers whose close price was successfully extracted\n",
        "while len(tickers) != 0 and attempt <=5:\n",
        "    tickers = [j for j in tickers if j not in drop]\n",
        "    for i in range(len(tickers)):\n",
        "        try:\n",
        "            ohlc_intraday[tickers[i]] = ts.get_intraday(symbol=tickers[i],interval='5min', outputsize='full')[0]\n",
        "            ohlc_intraday[tickers[i]].columns = [\"Open\",\"High\",\"Low\",\"Adj Close\",\"Volume\"]\n",
        "            drop.append(tickers[i])      \n",
        "        except:\n",
        "            print(tickers[i],\" :failed to fetch data...retrying\")\n",
        "            continue\n",
        "    attempt+=1\n",
        "\n",
        " \n",
        "tickers = ohlc_intraday.keys() # redefine tickers variable after removing any tickers with corrupted data"
      ],
      "execution_count": 20,
      "outputs": [
        {
          "output_type": "stream",
          "text": [
            "CSCO  :failed to fetch data...retrying\n",
            "VZ  :failed to fetch data...retrying\n",
            "IBM  :failed to fetch data...retrying\n",
            "QCOM  :failed to fetch data...retrying\n",
            "LYFT  :failed to fetch data...retrying\n",
            "CSCO  :failed to fetch data...retrying\n",
            "VZ  :failed to fetch data...retrying\n",
            "IBM  :failed to fetch data...retrying\n",
            "QCOM  :failed to fetch data...retrying\n",
            "LYFT  :failed to fetch data...retrying\n",
            "CSCO  :failed to fetch data...retrying\n",
            "VZ  :failed to fetch data...retrying\n",
            "IBM  :failed to fetch data...retrying\n",
            "QCOM  :failed to fetch data...retrying\n",
            "LYFT  :failed to fetch data...retrying\n",
            "CSCO  :failed to fetch data...retrying\n",
            "VZ  :failed to fetch data...retrying\n",
            "IBM  :failed to fetch data...retrying\n",
            "QCOM  :failed to fetch data...retrying\n",
            "LYFT  :failed to fetch data...retrying\n",
            "CSCO  :failed to fetch data...retrying\n",
            "VZ  :failed to fetch data...retrying\n",
            "IBM  :failed to fetch data...retrying\n",
            "QCOM  :failed to fetch data...retrying\n",
            "LYFT  :failed to fetch data...retrying\n",
            "CSCO  :failed to fetch data...retrying\n",
            "VZ  :failed to fetch data...retrying\n",
            "IBM  :failed to fetch data...retrying\n",
            "QCOM  :failed to fetch data...retrying\n",
            "LYFT  :failed to fetch data...retrying\n"
          ],
          "name": "stdout"
        }
      ]
    },
    {
      "cell_type": "markdown",
      "metadata": {
        "id": "cU_ufJMAENVA",
        "colab_type": "text"
      },
      "source": [
        "## Backtesting"
      ]
    },
    {
      "cell_type": "code",
      "metadata": {
        "id": "G8O9dKnuDWRk",
        "colab_type": "code",
        "colab": {
          "base_uri": "https://localhost:8080/",
          "height": 102
        },
        "outputId": "e1a55af0-e284-463b-fac9-d99627844ad1"
      },
      "source": [
        "# calculating ATR and rolling max price for each stock and consolidating this info by stock in a separate dataframe\n",
        "ohlc_dict = copy.deepcopy(ohlc_intraday)\n",
        "tickers_signal = {}\n",
        "tickers_ret = {}\n",
        "for ticker in tickers:\n",
        "    print(\"calculating ATR and rolling max price for \",ticker)\n",
        "    ohlc_dict[ticker][\"ATR\"] = ATR(ohlc_dict[ticker],20)\n",
        "    ohlc_dict[ticker][\"roll_max_cp\"] = ohlc_dict[ticker][\"High\"].rolling(20).max()\n",
        "    ohlc_dict[ticker][\"roll_min_cp\"] = ohlc_dict[ticker][\"Low\"].rolling(20).min()\n",
        "    ohlc_dict[ticker][\"roll_max_vol\"] = ohlc_dict[ticker][\"Volume\"].rolling(20).max()\n",
        "    ohlc_dict[ticker].dropna(inplace=True)\n",
        "    tickers_signal[ticker] = \"\"\n",
        "    tickers_ret[ticker] = []"
      ],
      "execution_count": 36,
      "outputs": [
        {
          "output_type": "stream",
          "text": [
            "calculating ATR and rolling max price for  MSFT\n",
            "calculating ATR and rolling max price for  AAPL\n",
            "calculating ATR and rolling max price for  FB\n",
            "calculating ATR and rolling max price for  AMZN\n",
            "calculating ATR and rolling max price for  INTC\n"
          ],
          "name": "stdout"
        }
      ]
    },
    {
      "cell_type": "code",
      "metadata": {
        "id": "swzBG7j9ETxZ",
        "colab_type": "code",
        "colab": {
          "base_uri": "https://localhost:8080/",
          "height": 102
        },
        "outputId": "c2c0d326-8c67-4d0a-88ce-235d7c854449"
      },
      "source": [
        "# identifying signals and calculating daily return (stop loss factored in)\n",
        "for ticker in tickers:\n",
        "    print(\"calculating returns for \",ticker)\n",
        "    for i in range(len(ohlc_dict[ticker])):\n",
        "        if tickers_signal[ticker] == \"\":\n",
        "            tickers_ret[ticker].append(0)\n",
        "            if ohlc_dict[ticker][\"High\"][i]>=ohlc_dict[ticker][\"roll_max_cp\"][i] and \\\n",
        "               ohlc_dict[ticker][\"Volume\"][i]>1.5*ohlc_dict[ticker][\"roll_max_vol\"][i-1]:\n",
        "                tickers_signal[ticker] = \"Buy\"\n",
        "            elif ohlc_dict[ticker][\"Low\"][i]<=ohlc_dict[ticker][\"roll_min_cp\"][i] and \\\n",
        "               ohlc_dict[ticker][\"Volume\"][i]>1.5*ohlc_dict[ticker][\"roll_max_vol\"][i-1]:\n",
        "                tickers_signal[ticker] = \"Sell\"\n",
        "        \n",
        "        elif tickers_signal[ticker] == \"Buy\":\n",
        "            if ohlc_dict[ticker][\"Adj Close\"][i]<ohlc_dict[ticker][\"Adj Close\"][i-1] - ohlc_dict[ticker][\"ATR\"][i-1]:\n",
        "                tickers_signal[ticker] = \"\"\n",
        "                tickers_ret[ticker].append(((ohlc_dict[ticker][\"Adj Close\"][i-1] - ohlc_dict[ticker][\"ATR\"][i-1])/ohlc_dict[ticker][\"Adj Close\"][i-1])-1)\n",
        "            elif ohlc_dict[ticker][\"Low\"][i]<=ohlc_dict[ticker][\"roll_min_cp\"][i] and \\\n",
        "               ohlc_dict[ticker][\"Volume\"][i]>1.5*ohlc_dict[ticker][\"roll_max_vol\"][i-1]:\n",
        "                tickers_signal[ticker] = \"Sell\"\n",
        "                tickers_ret[ticker].append(((ohlc_dict[ticker][\"Adj Close\"][i-1] - ohlc_dict[ticker][\"ATR\"][i-1])/ohlc_dict[ticker][\"Adj Close\"][i-1])-1)\n",
        "            else:\n",
        "                tickers_ret[ticker].append((ohlc_dict[ticker][\"Adj Close\"][i]/ohlc_dict[ticker][\"Adj Close\"][i-1])-1)\n",
        "                \n",
        "        elif tickers_signal[ticker] == \"Sell\":\n",
        "            if ohlc_dict[ticker][\"Adj Close\"][i]>ohlc_dict[ticker][\"Adj Close\"][i-1] + ohlc_dict[ticker][\"ATR\"][i-1]:\n",
        "                tickers_signal[ticker] = \"\"\n",
        "                tickers_ret[ticker].append((ohlc_dict[ticker][\"Adj Close\"][i-1]/(ohlc_dict[ticker][\"Adj Close\"][i-1] + ohlc_dict[ticker][\"ATR\"][i-1]))-1)\n",
        "            elif ohlc_dict[ticker][\"High\"][i]>=ohlc_dict[ticker][\"roll_max_cp\"][i] and \\\n",
        "               ohlc_dict[ticker][\"Volume\"][i]>1.5*ohlc_dict[ticker][\"roll_max_vol\"][i-1]:\n",
        "                tickers_signal[ticker] = \"Buy\"\n",
        "                tickers_ret[ticker].append((ohlc_dict[ticker][\"Adj Close\"][i-1]/(ohlc_dict[ticker][\"Adj Close\"][i-1] + ohlc_dict[ticker][\"ATR\"][i-1]))-1)\n",
        "            else:\n",
        "                tickers_ret[ticker].append((ohlc_dict[ticker][\"Adj Close\"][i-1]/ohlc_dict[ticker][\"Adj Close\"][i])-1)\n",
        "                \n",
        "    ohlc_dict[ticker][\"ret\"] = np.array(tickers_ret[ticker])"
      ],
      "execution_count": 37,
      "outputs": [
        {
          "output_type": "stream",
          "text": [
            "calculating returns for  MSFT\n",
            "calculating returns for  AAPL\n",
            "calculating returns for  FB\n",
            "calculating returns for  AMZN\n",
            "calculating returns for  INTC\n"
          ],
          "name": "stdout"
        }
      ]
    },
    {
      "cell_type": "code",
      "metadata": {
        "id": "mi34XFxLEn7N",
        "colab_type": "code",
        "colab": {}
      },
      "source": [
        "strategy_df = pd.DataFrame()\n",
        "for ticker in tickers:\n",
        "    strategy_df[ticker] = ohlc_dict[ticker][\"ret\"]\n",
        "strategy_df[\"ret\"] = strategy_df.mean(axis=1)"
      ],
      "execution_count": 0,
      "outputs": []
    },
    {
      "cell_type": "code",
      "metadata": {
        "id": "k7mVb_aqFQDU",
        "colab_type": "code",
        "colab": {
          "base_uri": "https://localhost:8080/",
          "height": 34
        },
        "outputId": "09a9486c-13e2-4c57-ce23-77cd679f10da"
      },
      "source": [
        "print(\"CAGR: \", CAGR(strategy_df)*100, \"% -- sharpe: \", sharpe(strategy_df,0.025), \" -- dd: \", max_dd(strategy_df)*100, \"%\")  "
      ],
      "execution_count": 39,
      "outputs": [
        {
          "output_type": "stream",
          "text": [
            "CAGR:  -35.82510390364768 % -- sharpe:  -4.530798605198006  -- dd:  4.470511069222871 %\n"
          ],
          "name": "stdout"
        }
      ]
    },
    {
      "cell_type": "code",
      "metadata": {
        "id": "pROWMDVwFjxy",
        "colab_type": "code",
        "colab": {
          "base_uri": "https://localhost:8080/",
          "height": 302
        },
        "outputId": "4897abea-91a9-4d8d-8e9f-232851ca8d12"
      },
      "source": [
        "# vizualization of strategy return\n",
        "(1+strategy_df[\"ret\"]).cumprod().plot()"
      ],
      "execution_count": 40,
      "outputs": [
        {
          "output_type": "execute_result",
          "data": {
            "text/plain": [
              "<matplotlib.axes._subplots.AxesSubplot at 0x7f5a454e59e8>"
            ]
          },
          "metadata": {
            "tags": []
          },
          "execution_count": 40
        },
        {
          "output_type": "display_data",
          "data": {
            "image/png": "[encoded data removed]",
            "text/plain": [
              "<Figure size 432x288 with 1 Axes>"
            ]
          },
          "metadata": {
            "tags": []
          }
        }
      ]
    },
    {
      "cell_type": "code",
      "metadata": {
        "id": "53Mjhz91FpUA",
        "colab_type": "code",
        "colab": {
          "base_uri": "https://localhost:8080/",
          "height": 289
        },
        "outputId": "dd3bfec9-74d9-42a9-86e2-8dd5e0105f96"
      },
      "source": [
        "#calculating individual stock's KPIs\n",
        "cagr = {}\n",
        "sharpe_ratios = {}\n",
        "max_drawdown = {}\n",
        "for ticker in tickers:\n",
        "    print(\"calculating KPIs for \",ticker)      \n",
        "    cagr[ticker] =  CAGR(ohlc_dict[ticker])\n",
        "    sharpe_ratios[ticker] =  sharpe(ohlc_dict[ticker],0.025)\n",
        "    max_drawdown[ticker] =  max_dd(ohlc_dict[ticker])\n",
        "\n",
        "KPI_df = pd.DataFrame([cagr,sharpe_ratios,max_drawdown],index=[\"Return\",\"Sharpe Ratio\",\"Max Drawdown\"])      \n",
        "KPI_df.T"
      ],
      "execution_count": 35,
      "outputs": [
        {
          "output_type": "stream",
          "text": [
            "calculating KPIs for  MSFT\n",
            "calculating KPIs for  AAPL\n",
            "calculating KPIs for  FB\n",
            "calculating KPIs for  AMZN\n",
            "calculating KPIs for  INTC\n"
          ],
          "name": "stdout"
        },
        {
          "output_type": "execute_result",
          "data": {
            "text/html": [
              "<div>\n",
              "<style scoped>\n",
              "    .dataframe tbody tr th:only-of-type {\n",
              "        vertical-align: middle;\n",
              "    }\n",
              "\n",
              "    .dataframe tbody tr th {\n",
              "        vertical-align: top;\n",
              "    }\n",
              "\n",
              "    .dataframe thead th {\n",
              "        text-align: right;\n",
              "    }\n",
              "</style>\n",
              "<table border=\"1\" class=\"dataframe\">\n",
              "  <thead>\n",
              "    <tr style=\"text-align: right;\">\n",
              "      <th></th>\n",
              "      <th>Return</th>\n",
              "      <th>Sharpe Ratio</th>\n",
              "      <th>Max Drawdown</th>\n",
              "    </tr>\n",
              "  </thead>\n",
              "  <tbody>\n",
              "    <tr>\n",
              "      <th>MSFT</th>\n",
              "      <td>-0.708936</td>\n",
              "      <td>-4.887835</td>\n",
              "      <td>0.090970</td>\n",
              "    </tr>\n",
              "    <tr>\n",
              "      <th>AAPL</th>\n",
              "      <td>-0.368211</td>\n",
              "      <td>-3.078837</td>\n",
              "      <td>0.057724</td>\n",
              "    </tr>\n",
              "    <tr>\n",
              "      <th>FB</th>\n",
              "      <td>-0.123163</td>\n",
              "      <td>-1.107338</td>\n",
              "      <td>0.047182</td>\n",
              "    </tr>\n",
              "    <tr>\n",
              "      <th>AMZN</th>\n",
              "      <td>-0.059256</td>\n",
              "      <td>-0.631870</td>\n",
              "      <td>0.032651</td>\n",
              "    </tr>\n",
              "    <tr>\n",
              "      <th>INTC</th>\n",
              "      <td>-0.308164</td>\n",
              "      <td>-1.802161</td>\n",
              "      <td>0.043940</td>\n",
              "    </tr>\n",
              "  </tbody>\n",
              "</table>\n",
              "</div>"
            ],
            "text/plain": [
              "        Return  Sharpe Ratio  Max Drawdown\n",
              "MSFT -0.708936     -4.887835      0.090970\n",
              "AAPL -0.368211     -3.078837      0.057724\n",
              "FB   -0.123163     -1.107338      0.047182\n",
              "AMZN -0.059256     -0.631870      0.032651\n",
              "INTC -0.308164     -1.802161      0.043940"
            ]
          },
          "metadata": {
            "tags": []
          },
          "execution_count": 35
        }
      ]
    },
    {
      "cell_type": "code",
      "metadata": {
        "id": "X5YWlvAvFtkD",
        "colab_type": "code",
        "colab": {}
      },
      "source": [
        ""
      ],
      "execution_count": 0,
      "outputs": []
    }
  ]
}