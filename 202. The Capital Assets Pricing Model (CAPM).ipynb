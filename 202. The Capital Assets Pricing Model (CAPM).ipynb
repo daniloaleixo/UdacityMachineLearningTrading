{
 "cells": [
  {
   "cell_type": "markdown",
   "metadata": {},
   "source": [
    "# CAPM"
   ]
  },
   {
   "cell_type": "markdown",
   "metadata": {
    "collapsed": true,
    "deletable": true,
    "editable": true
   },
   "source": [
    "----\n",
    "### <font color=blue>The Capital Assets Pricing Model (The CAPM)</font>\n",
    "\n",
    "#### Definition of Portfolio\n",
    "![TheCAPM](images/the_capm_define.png)  \n",
    "<font color=blue>$w_i$</font>: portion of funds in asset <font color=blue>$i$</font><br/>\n",
    "<font color=blue>$r_i$</font>: the return of asset <font color=blue>$i$</font><br/>\n",
    "<font color=blue>$r_p$</font>: the return on the portfolio on that day <font color=blue>$t$</font><br/>\n",
    "<br/>\n",
    "#### Cap weighted\n",
    "![TheCAPM](images/the_capm_weighted.png)  \n",
    "<font color=blue>$\\sum_{j}{MarketCap_j}$</font>: the sum of the market caps of all the stocks.<br/>\n",
    "<br/>\n",
    "#### The CAPM equation\n",
    "![TheCAPM](images/the_capm_equation.png)  \n",
    "<font color=blue>$r_i(t)$</font>: the return for an individual stock on a particular day <font color=blue>$t$</font>\n",
    "where <font color=blue>$i$</font> is one of stocks in the market <font color=blue>$m$</font><br/>\n",
    "<font color=blue>$r_m(t)$</font>: the return on the market <font color=blue>$m$</font> such as **`S&P500`**<br/>\n",
    "<font color=blue>$\\alpha_i(t)$</font>: the particular stock on that day <font color=blue>$t$</font><br/>\n",
    "<font color=red>$\\beta_ir_m(t)$ (market)</font>: what the capital assets pricing model is asserting is that a significant portion of the return for a particular stock is due to the market. In other words, the market moving up or down strongly affects the change in price on every individual stock. Every stock has its individual <font color=red>$\\beta$</font> that specifies how much it's affected. For example, if <font color=red>$\\beta$</font> is 2, that means if the market goes up 1%, the stock goes up 2%.<br/>\n",
    "\n",
    "<font color=red>$\\alpha_i(t)$ (residual)</font>: if we look at all the stocks over one day and look at how much the market goes up or down, and how much the stock should have gone up or down according to <font color=red>$\\beta$</font>, there will be something left over, which won't exactly match what <font color=red>$\\beta$</font> predicted. That's what <font color=red>$\\alpha$</font> or **`residual component`** is.<br/>\n",
    "\n",
    "<font color=red>$E = 0$</font>: an important part of the capital assets pricing model is that the expectation <font color=red>$E$</font> for <font color=red>$\\alpha$</font> is 0, where <font color=red>$E$</font> is a random variable with an expected value of 0.\n",
    "\n",
    "![TheCAPM](images/the_capm.png)  \n",
    "In this plot, each green dot represents one day. \n",
    "When we fit a line to it, <font color=red>$\\beta$</font> represents the slope of the red solid line. <font color=red>$\\alpha$</font> is the y-intercept of the red line.<br/><br/>\n",
    "Historically a particular stock looking back at time gave you a particular <font color=red>$\\alpha$</font>, you shouldn't necessarily expect that in the future.<br/>\n",
    "The CAPM says that you should expect <font color=red>$\\alpha$</font> to be 0, it's random and unpredictable. It can be negative or positive, small or large. On average, it's gonna be 0. <br/>\n",
    "In reality though, it's not always 0. That's the key to the CAPM pricing model and where <font color=red>$\\beta$</font> and <font color=red>$\\alpha$</font> come from.\n",
    "\n",
    "#### CAPM for portfolio\n",
    "![TheCAPMPortfolio](images/the_capm_portfolio.png) "
   ]
  },
  {
   "cell_type": "code",
   "execution_count": null,
   "metadata": {},
   "outputs": [],
   "source": []
  }
 ],
 "metadata": {
  "kernelspec": {
   "display_name": "Python 3",
   "language": "python",
   "name": "python3"
  },
  "language_info": {
   "codemirror_mode": {
    "name": "ipython",
    "version": 3
   },
   "file_extension": ".py",
   "mimetype": "text/x-python",
   "name": "python",
   "nbconvert_exporter": "python",
   "pygments_lexer": "ipython3",
   "version": "3.7.4"
  }
 },
 "nbformat": 4,
 "nbformat_minor": 2
}
