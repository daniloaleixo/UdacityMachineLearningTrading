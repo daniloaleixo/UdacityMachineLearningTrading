{
 "cells": [
  {
   "cell_type": "markdown",
   "metadata": {},
   "source": [
    "# Sharpe Ratio and Other Portfolio Statistics"
   ]
  },
  {
   "cell_type": "markdown",
   "metadata": {},
   "source": [
    "## Daily portfolio values"
   ]
  },
  {
   "cell_type": "markdown",
   "metadata": {},
   "source": [
    "Here are the steps to calculate the daily portfolio values:\n",
    "\n",
    "1. Create a dataframe of prices with columns for each stock, indexed by date\n",
    "2. Normalize the prices dataframe (prices / prices[0]) into a normalized dataframe. These represent cumulative returns starting from the start date.\n",
    "3. Multiply the normalized dataframe by the allocations for each stock into an allocations dataframe.\n",
    "4. Multipy the allocations dataframe by the start value (how much money you started with) to calculate the amount of cash allocated to each stock. Save this into a postions dataframe.\n",
    "5. Calculate the portfolio values each day by summing the positions across the 1 axis. Save this into a portfolio_value dataframe (or a series in your existing dataframe)"
   ]
  },
  {
   "cell_type": "code",
   "execution_count": 3,
   "metadata": {},
   "outputs": [],
   "source": [
    "import pandas as pd\n",
    "from util import get_data\n",
    "from util import plot_data"
   ]
  },
  {
   "cell_type": "code",
   "execution_count": 5,
   "metadata": {},
   "outputs": [],
   "source": [
    "start_val = 1_000_000\n",
    "start_date = \"2009-1-1\"\n",
    "end_date = \"2011-12-31\"\n",
    "symbols = [\"SPY\", \"XOM\", \"GOOG\", \"GLD\"]\n",
    "allocs = [0.4, 0.4, 0.1, 0.1]"
   ]
  },
  {
   "cell_type": "markdown",
   "metadata": {},
   "source": [
    "1. Create a dataframe of prices with columns for each stock, indexed by date"
   ]
  },
  {
   "cell_type": "code",
   "execution_count": 9,
   "metadata": {},
   "outputs": [
    {
     "data": {
      "text/html": [
       "<div>\n",
       "<style scoped>\n",
       "    .dataframe tbody tr th:only-of-type {\n",
       "        vertical-align: middle;\n",
       "    }\n",
       "\n",
       "    .dataframe tbody tr th {\n",
       "        vertical-align: top;\n",
       "    }\n",
       "\n",
       "    .dataframe thead th {\n",
       "        text-align: right;\n",
       "    }\n",
       "</style>\n",
       "<table border=\"1\" class=\"dataframe\">\n",
       "  <thead>\n",
       "    <tr style=\"text-align: right;\">\n",
       "      <th></th>\n",
       "      <th>SPY</th>\n",
       "      <th>XOM</th>\n",
       "      <th>GOOG</th>\n",
       "      <th>GLD</th>\n",
       "    </tr>\n",
       "  </thead>\n",
       "  <tbody>\n",
       "    <tr>\n",
       "      <td>2009-01-02</td>\n",
       "      <td>86.80</td>\n",
       "      <td>74.48</td>\n",
       "      <td>321.32</td>\n",
       "      <td>86.23</td>\n",
       "    </tr>\n",
       "    <tr>\n",
       "      <td>2009-01-05</td>\n",
       "      <td>86.70</td>\n",
       "      <td>74.47</td>\n",
       "      <td>328.05</td>\n",
       "      <td>84.48</td>\n",
       "    </tr>\n",
       "    <tr>\n",
       "      <td>2009-01-06</td>\n",
       "      <td>87.28</td>\n",
       "      <td>73.26</td>\n",
       "      <td>334.06</td>\n",
       "      <td>85.13</td>\n",
       "    </tr>\n",
       "    <tr>\n",
       "      <td>2009-01-07</td>\n",
       "      <td>84.67</td>\n",
       "      <td>71.39</td>\n",
       "      <td>322.01</td>\n",
       "      <td>82.75</td>\n",
       "    </tr>\n",
       "    <tr>\n",
       "      <td>2009-01-08</td>\n",
       "      <td>85.01</td>\n",
       "      <td>72.15</td>\n",
       "      <td>325.19</td>\n",
       "      <td>84.46</td>\n",
       "    </tr>\n",
       "    <tr>\n",
       "      <td>...</td>\n",
       "      <td>...</td>\n",
       "      <td>...</td>\n",
       "      <td>...</td>\n",
       "      <td>...</td>\n",
       "    </tr>\n",
       "    <tr>\n",
       "      <td>2011-12-23</td>\n",
       "      <td>125.19</td>\n",
       "      <td>83.63</td>\n",
       "      <td>633.14</td>\n",
       "      <td>156.31</td>\n",
       "    </tr>\n",
       "    <tr>\n",
       "      <td>2011-12-27</td>\n",
       "      <td>125.29</td>\n",
       "      <td>83.69</td>\n",
       "      <td>640.25</td>\n",
       "      <td>154.91</td>\n",
       "    </tr>\n",
       "    <tr>\n",
       "      <td>2011-12-28</td>\n",
       "      <td>123.64</td>\n",
       "      <td>82.61</td>\n",
       "      <td>639.70</td>\n",
       "      <td>151.03</td>\n",
       "    </tr>\n",
       "    <tr>\n",
       "      <td>2011-12-29</td>\n",
       "      <td>124.92</td>\n",
       "      <td>83.68</td>\n",
       "      <td>642.40</td>\n",
       "      <td>150.34</td>\n",
       "    </tr>\n",
       "    <tr>\n",
       "      <td>2011-12-30</td>\n",
       "      <td>124.31</td>\n",
       "      <td>83.18</td>\n",
       "      <td>645.90</td>\n",
       "      <td>151.99</td>\n",
       "    </tr>\n",
       "  </tbody>\n",
       "</table>\n",
       "<p>756 rows × 4 columns</p>\n",
       "</div>"
      ],
      "text/plain": [
       "               SPY    XOM    GOOG     GLD\n",
       "2009-01-02   86.80  74.48  321.32   86.23\n",
       "2009-01-05   86.70  74.47  328.05   84.48\n",
       "2009-01-06   87.28  73.26  334.06   85.13\n",
       "2009-01-07   84.67  71.39  322.01   82.75\n",
       "2009-01-08   85.01  72.15  325.19   84.46\n",
       "...            ...    ...     ...     ...\n",
       "2011-12-23  125.19  83.63  633.14  156.31\n",
       "2011-12-27  125.29  83.69  640.25  154.91\n",
       "2011-12-28  123.64  82.61  639.70  151.03\n",
       "2011-12-29  124.92  83.68  642.40  150.34\n",
       "2011-12-30  124.31  83.18  645.90  151.99\n",
       "\n",
       "[756 rows x 4 columns]"
      ]
     },
     "execution_count": 9,
     "metadata": {},
     "output_type": "execute_result"
    }
   ],
   "source": [
    "dates = pd.date_range(start_date, end_date)\n",
    "prices = get_data(symbols, dates)\n",
    "prices"
   ]
  },
  {
   "cell_type": "markdown",
   "metadata": {},
   "source": [
    "2. Normalize the prices dataframe (prices / prices[0]) into a normalized dataframe. These represent cumulative returns starting from the start date."
   ]
  },
  {
   "cell_type": "code",
   "execution_count": 11,
   "metadata": {},
   "outputs": [
    {
     "data": {
      "text/html": [
       "<div>\n",
       "<style scoped>\n",
       "    .dataframe tbody tr th:only-of-type {\n",
       "        vertical-align: middle;\n",
       "    }\n",
       "\n",
       "    .dataframe tbody tr th {\n",
       "        vertical-align: top;\n",
       "    }\n",
       "\n",
       "    .dataframe thead th {\n",
       "        text-align: right;\n",
       "    }\n",
       "</style>\n",
       "<table border=\"1\" class=\"dataframe\">\n",
       "  <thead>\n",
       "    <tr style=\"text-align: right;\">\n",
       "      <th></th>\n",
       "      <th>SPY</th>\n",
       "      <th>XOM</th>\n",
       "      <th>GOOG</th>\n",
       "      <th>GLD</th>\n",
       "    </tr>\n",
       "  </thead>\n",
       "  <tbody>\n",
       "    <tr>\n",
       "      <td>2009-01-02</td>\n",
       "      <td>1.000000</td>\n",
       "      <td>1.000000</td>\n",
       "      <td>1.000000</td>\n",
       "      <td>1.000000</td>\n",
       "    </tr>\n",
       "    <tr>\n",
       "      <td>2009-01-05</td>\n",
       "      <td>0.998848</td>\n",
       "      <td>0.999866</td>\n",
       "      <td>1.020945</td>\n",
       "      <td>0.979705</td>\n",
       "    </tr>\n",
       "    <tr>\n",
       "      <td>2009-01-06</td>\n",
       "      <td>1.005530</td>\n",
       "      <td>0.983620</td>\n",
       "      <td>1.039649</td>\n",
       "      <td>0.987243</td>\n",
       "    </tr>\n",
       "    <tr>\n",
       "      <td>2009-01-07</td>\n",
       "      <td>0.975461</td>\n",
       "      <td>0.958512</td>\n",
       "      <td>1.002147</td>\n",
       "      <td>0.959643</td>\n",
       "    </tr>\n",
       "    <tr>\n",
       "      <td>2009-01-08</td>\n",
       "      <td>0.979378</td>\n",
       "      <td>0.968716</td>\n",
       "      <td>1.012044</td>\n",
       "      <td>0.979474</td>\n",
       "    </tr>\n",
       "    <tr>\n",
       "      <td>...</td>\n",
       "      <td>...</td>\n",
       "      <td>...</td>\n",
       "      <td>...</td>\n",
       "      <td>...</td>\n",
       "    </tr>\n",
       "    <tr>\n",
       "      <td>2011-12-23</td>\n",
       "      <td>1.442281</td>\n",
       "      <td>1.122852</td>\n",
       "      <td>1.970434</td>\n",
       "      <td>1.812710</td>\n",
       "    </tr>\n",
       "    <tr>\n",
       "      <td>2011-12-27</td>\n",
       "      <td>1.443433</td>\n",
       "      <td>1.123657</td>\n",
       "      <td>1.992562</td>\n",
       "      <td>1.796475</td>\n",
       "    </tr>\n",
       "    <tr>\n",
       "      <td>2011-12-28</td>\n",
       "      <td>1.424424</td>\n",
       "      <td>1.109157</td>\n",
       "      <td>1.990850</td>\n",
       "      <td>1.751479</td>\n",
       "    </tr>\n",
       "    <tr>\n",
       "      <td>2011-12-29</td>\n",
       "      <td>1.439171</td>\n",
       "      <td>1.123523</td>\n",
       "      <td>1.999253</td>\n",
       "      <td>1.743477</td>\n",
       "    </tr>\n",
       "    <tr>\n",
       "      <td>2011-12-30</td>\n",
       "      <td>1.432143</td>\n",
       "      <td>1.116810</td>\n",
       "      <td>2.010146</td>\n",
       "      <td>1.762612</td>\n",
       "    </tr>\n",
       "  </tbody>\n",
       "</table>\n",
       "<p>756 rows × 4 columns</p>\n",
       "</div>"
      ],
      "text/plain": [
       "                 SPY       XOM      GOOG       GLD\n",
       "2009-01-02  1.000000  1.000000  1.000000  1.000000\n",
       "2009-01-05  0.998848  0.999866  1.020945  0.979705\n",
       "2009-01-06  1.005530  0.983620  1.039649  0.987243\n",
       "2009-01-07  0.975461  0.958512  1.002147  0.959643\n",
       "2009-01-08  0.979378  0.968716  1.012044  0.979474\n",
       "...              ...       ...       ...       ...\n",
       "2011-12-23  1.442281  1.122852  1.970434  1.812710\n",
       "2011-12-27  1.443433  1.123657  1.992562  1.796475\n",
       "2011-12-28  1.424424  1.109157  1.990850  1.751479\n",
       "2011-12-29  1.439171  1.123523  1.999253  1.743477\n",
       "2011-12-30  1.432143  1.116810  2.010146  1.762612\n",
       "\n",
       "[756 rows x 4 columns]"
      ]
     },
     "execution_count": 11,
     "metadata": {},
     "output_type": "execute_result"
    }
   ],
   "source": [
    "normed = prices / prices.iloc[0]\n",
    "normed"
   ]
  },
  {
   "cell_type": "markdown",
   "metadata": {},
   "source": [
    "3. Multiply the normalized dataframe by the allocations for each stock into an allocations dataframe."
   ]
  },
  {
   "cell_type": "code",
   "execution_count": 13,
   "metadata": {},
   "outputs": [
    {
     "data": {
      "text/html": [
       "<div>\n",
       "<style scoped>\n",
       "    .dataframe tbody tr th:only-of-type {\n",
       "        vertical-align: middle;\n",
       "    }\n",
       "\n",
       "    .dataframe tbody tr th {\n",
       "        vertical-align: top;\n",
       "    }\n",
       "\n",
       "    .dataframe thead th {\n",
       "        text-align: right;\n",
       "    }\n",
       "</style>\n",
       "<table border=\"1\" class=\"dataframe\">\n",
       "  <thead>\n",
       "    <tr style=\"text-align: right;\">\n",
       "      <th></th>\n",
       "      <th>SPY</th>\n",
       "      <th>XOM</th>\n",
       "      <th>GOOG</th>\n",
       "      <th>GLD</th>\n",
       "    </tr>\n",
       "  </thead>\n",
       "  <tbody>\n",
       "    <tr>\n",
       "      <td>2009-01-02</td>\n",
       "      <td>0.400000</td>\n",
       "      <td>0.400000</td>\n",
       "      <td>0.100000</td>\n",
       "      <td>0.100000</td>\n",
       "    </tr>\n",
       "    <tr>\n",
       "      <td>2009-01-05</td>\n",
       "      <td>0.399539</td>\n",
       "      <td>0.399946</td>\n",
       "      <td>0.102094</td>\n",
       "      <td>0.097971</td>\n",
       "    </tr>\n",
       "    <tr>\n",
       "      <td>2009-01-06</td>\n",
       "      <td>0.402212</td>\n",
       "      <td>0.393448</td>\n",
       "      <td>0.103965</td>\n",
       "      <td>0.098724</td>\n",
       "    </tr>\n",
       "    <tr>\n",
       "      <td>2009-01-07</td>\n",
       "      <td>0.390184</td>\n",
       "      <td>0.383405</td>\n",
       "      <td>0.100215</td>\n",
       "      <td>0.095964</td>\n",
       "    </tr>\n",
       "    <tr>\n",
       "      <td>2009-01-08</td>\n",
       "      <td>0.391751</td>\n",
       "      <td>0.387487</td>\n",
       "      <td>0.101204</td>\n",
       "      <td>0.097947</td>\n",
       "    </tr>\n",
       "    <tr>\n",
       "      <td>...</td>\n",
       "      <td>...</td>\n",
       "      <td>...</td>\n",
       "      <td>...</td>\n",
       "      <td>...</td>\n",
       "    </tr>\n",
       "    <tr>\n",
       "      <td>2011-12-23</td>\n",
       "      <td>0.576912</td>\n",
       "      <td>0.449141</td>\n",
       "      <td>0.197043</td>\n",
       "      <td>0.181271</td>\n",
       "    </tr>\n",
       "    <tr>\n",
       "      <td>2011-12-27</td>\n",
       "      <td>0.577373</td>\n",
       "      <td>0.449463</td>\n",
       "      <td>0.199256</td>\n",
       "      <td>0.179647</td>\n",
       "    </tr>\n",
       "    <tr>\n",
       "      <td>2011-12-28</td>\n",
       "      <td>0.569770</td>\n",
       "      <td>0.443663</td>\n",
       "      <td>0.199085</td>\n",
       "      <td>0.175148</td>\n",
       "    </tr>\n",
       "    <tr>\n",
       "      <td>2011-12-29</td>\n",
       "      <td>0.575668</td>\n",
       "      <td>0.449409</td>\n",
       "      <td>0.199925</td>\n",
       "      <td>0.174348</td>\n",
       "    </tr>\n",
       "    <tr>\n",
       "      <td>2011-12-30</td>\n",
       "      <td>0.572857</td>\n",
       "      <td>0.446724</td>\n",
       "      <td>0.201015</td>\n",
       "      <td>0.176261</td>\n",
       "    </tr>\n",
       "  </tbody>\n",
       "</table>\n",
       "<p>756 rows × 4 columns</p>\n",
       "</div>"
      ],
      "text/plain": [
       "                 SPY       XOM      GOOG       GLD\n",
       "2009-01-02  0.400000  0.400000  0.100000  0.100000\n",
       "2009-01-05  0.399539  0.399946  0.102094  0.097971\n",
       "2009-01-06  0.402212  0.393448  0.103965  0.098724\n",
       "2009-01-07  0.390184  0.383405  0.100215  0.095964\n",
       "2009-01-08  0.391751  0.387487  0.101204  0.097947\n",
       "...              ...       ...       ...       ...\n",
       "2011-12-23  0.576912  0.449141  0.197043  0.181271\n",
       "2011-12-27  0.577373  0.449463  0.199256  0.179647\n",
       "2011-12-28  0.569770  0.443663  0.199085  0.175148\n",
       "2011-12-29  0.575668  0.449409  0.199925  0.174348\n",
       "2011-12-30  0.572857  0.446724  0.201015  0.176261\n",
       "\n",
       "[756 rows x 4 columns]"
      ]
     },
     "execution_count": 13,
     "metadata": {},
     "output_type": "execute_result"
    }
   ],
   "source": [
    "allocced = normed * allocs\n",
    "allocced"
   ]
  },
  {
   "cell_type": "markdown",
   "metadata": {},
   "source": [
    "4. Multipy the allocations dataframe by the start value (how much money you started with) to calculate the amount of cash allocated to each stock. Save this into a postions dataframe."
   ]
  },
  {
   "cell_type": "code",
   "execution_count": 14,
   "metadata": {},
   "outputs": [
    {
     "data": {
      "text/html": [
       "<div>\n",
       "<style scoped>\n",
       "    .dataframe tbody tr th:only-of-type {\n",
       "        vertical-align: middle;\n",
       "    }\n",
       "\n",
       "    .dataframe tbody tr th {\n",
       "        vertical-align: top;\n",
       "    }\n",
       "\n",
       "    .dataframe thead th {\n",
       "        text-align: right;\n",
       "    }\n",
       "</style>\n",
       "<table border=\"1\" class=\"dataframe\">\n",
       "  <thead>\n",
       "    <tr style=\"text-align: right;\">\n",
       "      <th></th>\n",
       "      <th>SPY</th>\n",
       "      <th>XOM</th>\n",
       "      <th>GOOG</th>\n",
       "      <th>GLD</th>\n",
       "    </tr>\n",
       "  </thead>\n",
       "  <tbody>\n",
       "    <tr>\n",
       "      <td>2009-01-02</td>\n",
       "      <td>400000.000000</td>\n",
       "      <td>400000.000000</td>\n",
       "      <td>100000.000000</td>\n",
       "      <td>100000.000000</td>\n",
       "    </tr>\n",
       "    <tr>\n",
       "      <td>2009-01-05</td>\n",
       "      <td>399539.170507</td>\n",
       "      <td>399946.294307</td>\n",
       "      <td>102094.485248</td>\n",
       "      <td>97970.543894</td>\n",
       "    </tr>\n",
       "    <tr>\n",
       "      <td>2009-01-06</td>\n",
       "      <td>402211.981567</td>\n",
       "      <td>393447.905478</td>\n",
       "      <td>103964.894809</td>\n",
       "      <td>98724.341876</td>\n",
       "    </tr>\n",
       "    <tr>\n",
       "      <td>2009-01-07</td>\n",
       "      <td>390184.331797</td>\n",
       "      <td>383404.940924</td>\n",
       "      <td>100214.739201</td>\n",
       "      <td>95964.281573</td>\n",
       "    </tr>\n",
       "    <tr>\n",
       "      <td>2009-01-08</td>\n",
       "      <td>391751.152074</td>\n",
       "      <td>387486.573577</td>\n",
       "      <td>101204.406822</td>\n",
       "      <td>97947.350110</td>\n",
       "    </tr>\n",
       "    <tr>\n",
       "      <td>...</td>\n",
       "      <td>...</td>\n",
       "      <td>...</td>\n",
       "      <td>...</td>\n",
       "      <td>...</td>\n",
       "    </tr>\n",
       "    <tr>\n",
       "      <td>2011-12-23</td>\n",
       "      <td>576912.442396</td>\n",
       "      <td>449140.708915</td>\n",
       "      <td>197043.445786</td>\n",
       "      <td>181271.019367</td>\n",
       "    </tr>\n",
       "    <tr>\n",
       "      <td>2011-12-27</td>\n",
       "      <td>577373.271889</td>\n",
       "      <td>449462.943072</td>\n",
       "      <td>199256.193203</td>\n",
       "      <td>179647.454482</td>\n",
       "    </tr>\n",
       "    <tr>\n",
       "      <td>2011-12-28</td>\n",
       "      <td>569769.585253</td>\n",
       "      <td>443662.728249</td>\n",
       "      <td>199085.024275</td>\n",
       "      <td>175147.860373</td>\n",
       "    </tr>\n",
       "    <tr>\n",
       "      <td>2011-12-29</td>\n",
       "      <td>575668.202765</td>\n",
       "      <td>449409.237379</td>\n",
       "      <td>199925.308104</td>\n",
       "      <td>174347.674823</td>\n",
       "    </tr>\n",
       "    <tr>\n",
       "      <td>2011-12-30</td>\n",
       "      <td>572857.142857</td>\n",
       "      <td>446723.952739</td>\n",
       "      <td>201014.564920</td>\n",
       "      <td>176261.162009</td>\n",
       "    </tr>\n",
       "  </tbody>\n",
       "</table>\n",
       "<p>756 rows × 4 columns</p>\n",
       "</div>"
      ],
      "text/plain": [
       "                      SPY            XOM           GOOG            GLD\n",
       "2009-01-02  400000.000000  400000.000000  100000.000000  100000.000000\n",
       "2009-01-05  399539.170507  399946.294307  102094.485248   97970.543894\n",
       "2009-01-06  402211.981567  393447.905478  103964.894809   98724.341876\n",
       "2009-01-07  390184.331797  383404.940924  100214.739201   95964.281573\n",
       "2009-01-08  391751.152074  387486.573577  101204.406822   97947.350110\n",
       "...                   ...            ...            ...            ...\n",
       "2011-12-23  576912.442396  449140.708915  197043.445786  181271.019367\n",
       "2011-12-27  577373.271889  449462.943072  199256.193203  179647.454482\n",
       "2011-12-28  569769.585253  443662.728249  199085.024275  175147.860373\n",
       "2011-12-29  575668.202765  449409.237379  199925.308104  174347.674823\n",
       "2011-12-30  572857.142857  446723.952739  201014.564920  176261.162009\n",
       "\n",
       "[756 rows x 4 columns]"
      ]
     },
     "execution_count": 14,
     "metadata": {},
     "output_type": "execute_result"
    }
   ],
   "source": [
    "pos_vals = allocced * start_val\n",
    "pos_vals"
   ]
  },
  {
   "cell_type": "markdown",
   "metadata": {},
   "source": [
    "5. Calculate the portfolio values each day by summing the positions across the 1 axis. Save this into a portfolio_value dataframe (or a series in your existing dataframe)"
   ]
  },
  {
   "cell_type": "code",
   "execution_count": 17,
   "metadata": {},
   "outputs": [
    {
     "data": {
      "text/plain": [
       "2009-01-02    1.000000e+06\n",
       "2009-01-05    9.995505e+05\n",
       "2009-01-06    9.983491e+05\n",
       "2009-01-07    9.697683e+05\n",
       "2009-01-08    9.783895e+05\n",
       "                  ...     \n",
       "2011-12-23    1.404368e+06\n",
       "2011-12-27    1.405740e+06\n",
       "2011-12-28    1.387665e+06\n",
       "2011-12-29    1.399350e+06\n",
       "2011-12-30    1.396857e+06\n",
       "Length: 756, dtype: float64"
      ]
     },
     "execution_count": 17,
     "metadata": {},
     "output_type": "execute_result"
    }
   ],
   "source": [
    "port_val = pos_vals.sum(axis = 1)\n",
    "port_val"
   ]
  },
  {
   "cell_type": "markdown",
   "metadata": {},
   "source": [
    "## Portfolio Statistics\n"
   ]
  },
  {
   "cell_type": "markdown",
   "metadata": {},
   "source": [
    "### Daily returns"
   ]
  },
  {
   "cell_type": "code",
   "execution_count": 29,
   "metadata": {},
   "outputs": [],
   "source": [
    "def compute_daily_returns(df):\n",
    "    daily_returns = df.copy()\n",
    "    daily_returns[1:] = (df[1:] / df[:-1].values) - 1\n",
    "    daily_returns.iloc[0, :] = 0 # set daily returns for row 0 to 0\n",
    "    return daily_returns"
   ]
  },
  {
   "cell_type": "code",
   "execution_count": 35,
   "metadata": {},
   "outputs": [
    {
     "data": {
      "text/html": [
       "<div>\n",
       "<style scoped>\n",
       "    .dataframe tbody tr th:only-of-type {\n",
       "        vertical-align: middle;\n",
       "    }\n",
       "\n",
       "    .dataframe tbody tr th {\n",
       "        vertical-align: top;\n",
       "    }\n",
       "\n",
       "    .dataframe thead th {\n",
       "        text-align: right;\n",
       "    }\n",
       "</style>\n",
       "<table border=\"1\" class=\"dataframe\">\n",
       "  <thead>\n",
       "    <tr style=\"text-align: right;\">\n",
       "      <th></th>\n",
       "      <th>portfolio_value</th>\n",
       "    </tr>\n",
       "  </thead>\n",
       "  <tbody>\n",
       "    <tr>\n",
       "      <td>2009-01-02</td>\n",
       "      <td>0.000000</td>\n",
       "    </tr>\n",
       "    <tr>\n",
       "      <td>2009-01-05</td>\n",
       "      <td>-0.000450</td>\n",
       "    </tr>\n",
       "    <tr>\n",
       "      <td>2009-01-06</td>\n",
       "      <td>-0.001202</td>\n",
       "    </tr>\n",
       "    <tr>\n",
       "      <td>2009-01-07</td>\n",
       "      <td>-0.028628</td>\n",
       "    </tr>\n",
       "    <tr>\n",
       "      <td>2009-01-08</td>\n",
       "      <td>0.008890</td>\n",
       "    </tr>\n",
       "    <tr>\n",
       "      <td>...</td>\n",
       "      <td>...</td>\n",
       "    </tr>\n",
       "    <tr>\n",
       "      <td>2011-12-23</td>\n",
       "      <td>0.008174</td>\n",
       "    </tr>\n",
       "    <tr>\n",
       "      <td>2011-12-27</td>\n",
       "      <td>0.000977</td>\n",
       "    </tr>\n",
       "    <tr>\n",
       "      <td>2011-12-28</td>\n",
       "      <td>-0.012858</td>\n",
       "    </tr>\n",
       "    <tr>\n",
       "      <td>2011-12-29</td>\n",
       "      <td>0.008421</td>\n",
       "    </tr>\n",
       "    <tr>\n",
       "      <td>2011-12-30</td>\n",
       "      <td>-0.001782</td>\n",
       "    </tr>\n",
       "  </tbody>\n",
       "</table>\n",
       "<p>756 rows × 1 columns</p>\n",
       "</div>"
      ],
      "text/plain": [
       "            portfolio_value\n",
       "2009-01-02         0.000000\n",
       "2009-01-05        -0.000450\n",
       "2009-01-06        -0.001202\n",
       "2009-01-07        -0.028628\n",
       "2009-01-08         0.008890\n",
       "...                     ...\n",
       "2011-12-23         0.008174\n",
       "2011-12-27         0.000977\n",
       "2011-12-28        -0.012858\n",
       "2011-12-29         0.008421\n",
       "2011-12-30        -0.001782\n",
       "\n",
       "[756 rows x 1 columns]"
      ]
     },
     "execution_count": 35,
     "metadata": {},
     "output_type": "execute_result"
    }
   ],
   "source": [
    "df2 = pd.DataFrame(port_val, columns=['portfolio_value'])\n",
    "daily_returns = compute_daily_returns(df2)\n",
    "daily_returns"
   ]
  },
  {
   "cell_type": "markdown",
   "metadata": {},
   "source": [
    "### Cumulative returns"
   ]
  },
  {
   "cell_type": "code",
   "execution_count": 33,
   "metadata": {},
   "outputs": [
    {
     "name": "stdout",
     "output_type": "stream",
     "text": [
      "Cumulative returns 39.68568225244211 %\n"
     ]
    }
   ],
   "source": [
    "return_port = port_val[-1] / port_val[0] - 1\n",
    "print(\"Cumulative returns\", return_port * 100, \"%\")"
   ]
  },
  {
   "cell_type": "markdown",
   "metadata": {},
   "source": [
    "### Average daily returns"
   ]
  },
  {
   "cell_type": "code",
   "execution_count": 44,
   "metadata": {},
   "outputs": [
    {
     "name": "stdout",
     "output_type": "stream",
     "text": [
      "Average daily return 0.051581060348157626 %\n"
     ]
    }
   ],
   "source": [
    "avg_daily_ret = daily_returns.mean()\n",
    "print(\"Average daily return\", avg_daily_ret[0] * 100, \"%\")"
   ]
  },
  {
   "cell_type": "markdown",
   "metadata": {},
   "source": [
    "### STD daily returns"
   ]
  },
  {
   "cell_type": "code",
   "execution_count": 45,
   "metadata": {},
   "outputs": [
    {
     "name": "stdout",
     "output_type": "stream",
     "text": [
      "STD daily return 1.2134995631578664 %\n"
     ]
    }
   ],
   "source": [
    "std_daily_ret = daily_returns.std()\n",
    "print(\"STD daily return\", std_daily_ret[0] * 100, \"%\")"
   ]
  },
  {
   "cell_type": "markdown",
   "metadata": {},
   "source": [
    "### Sharpe ratio"
   ]
  },
  {
   "cell_type": "markdown",
   "metadata": {},
   "source": [
    "The Sharpe ratio was developed by Nobel laureate William F. Sharpe and is used to help investors understand the return of an investment compared to its risk. The ratio is the average return earned in excess of the risk-free rate per unit of volatility or total risk.\n",
    "\n",
    "We can calculate it by using:\n",
    "\n",
    "S = mean(daily_rets - daily_risk_free_rate) / std(daily_rets - daily_risk_free_rate)\n",
    "\n",
    "But what is the risk free rate?\n",
    "* LIBOR (London Inter-Bank Offered Rate)\n",
    "* 3 month T-Bill\n",
    "* 0%\n",
    "* In Brazil we could use the CDI\n",
    "\n",
    "A traditional short cut is use the annual return and divide it by the square root of 252 days, so\n",
    "\n",
    "daily_risk_free_rate = <sup>252</sup>root(1.0 + 0.1) -1 \n",
    "\n",
    "We could use 0 if we want"
   ]
  },
  {
   "cell_type": "code",
   "execution_count": null,
   "metadata": {},
   "outputs": [],
   "source": []
  }
 ],
 "metadata": {
  "kernelspec": {
   "display_name": "Python 3",
   "language": "python",
   "name": "python3"
  },
  "language_info": {
   "codemirror_mode": {
    "name": "ipython",
    "version": 3
   },
   "file_extension": ".py",
   "mimetype": "text/x-python",
   "name": "python",
   "nbconvert_exporter": "python",
   "pygments_lexer": "ipython3",
   "version": "3.7.4"
  }
 },
 "nbformat": 4,
 "nbformat_minor": 2
}
