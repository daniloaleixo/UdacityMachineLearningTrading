{
 "cells": [
  {
   "cell_type": "markdown",
   "metadata": {},
   "source": [
    "# Efficient Markets Hypothesis and Fundamental Law"
   ]
  },
  {
   "cell_type": "markdown",
   "metadata": {
    "collapsed": true,
    "deletable": true,
    "editable": true
   },
   "source": [
    "----\n",
    "#### <font color=blue>Grinold's Fundamental Law</font>\n",
    "A method of relating performance, skill and breadth in vesting.\n",
    "* Performance\n",
    "* Skill\n",
    "* Breadth\n",
    "![Grinold](images/grinold_1.png) \n",
    "* Performance is summarized in something called **`information ratio`** which is very much like the sharpe ratio, but it refers to the **`sharpe ratio of excess returns`**, in other words, the manner in which the portfolio manager is exceeding the market's performance.\n",
    "* Skill is summarized in something called Information coefficient.  \n",
    "* Breadth is how many trading opportunities we have.\n",
    "<br/><br/>\n",
    "\n",
    "Considering risk and reward comes away with 3 lessons:\n",
    "1. Higher alpha generates a higher sharpe ratio. \n",
    "2. More execution opportunities provide a higher sharpe ratio. \n",
    "3. Sharpe ratio grows as the square root of breadth.\n",
    "\n",
    "\n",
    "#### Information Ratio (IR)\n",
    "Sharpe ratio of skill component is the information ratio.<br/>\n",
    "People use information ratio as a measure of manager performance all the time.\n",
    "![IR](images/info_ratio.png) \n",
    "\n",
    "#### Information Coefficient (IC)\n",
    "the correlation of the anager's forecast to actual returns.\n",
    "\n",
    "#### Breadth (BR) \n",
    "the number of trading opportunities per year"
   ]
  },
  {
   "cell_type": "markdown",
   "metadata": {
    "collapsed": true,
    "deletable": true,
    "editable": true
   },
   "source": [
    "### <font color=blue>Mean variance optimization / Portfolio optimization </font>\n",
    "<b>Given:</b>\n",
    "* Set of equities  \n",
    "* Target return    <br/>\n",
    "\n",
    "<b>Find:</b>\n",
    "* Allocation to each equity that minimizes risk\n",
    "\n",
    "<b><font color=blue>What is risk?</font></b>\n",
    "![Risk](images/risk.png) \n",
    "Risk is measured as volatility or standard deviation of historical daily returns.\n",
    "\n",
    "<b><font color=blue>Visualize return vs risk</font></b>\n",
    "![Risk](images/risk_return.png) \n",
    "Each dot represents one stock.\n",
    "We can build the portfolio by cobining multiple assets like the various stocks lotted here and weighting each asset by a particular weight that represents it's allocation within the portfolio. <br/>\n",
    "So each stock has a weight and when combined altogether, we end up with a portfolio that has properties of each of the stocks. It's typically got a risk and a return somewhere in the middle there.\n",
    "\n",
    "<b><font color=blue>The importance of covariance</font></b>\n",
    "![Covariance](images/covariance_1.png) \n",
    "![Covariance](images/covariance_2.png) \n",
    "We combining an anticorrelated asset and  get the same 10% return, but lower volatility than any asset by itself. All these assets by themselves had significant volatility, but when we put them together, we reduced volatility significantly. <br/>\n",
    "\n",
    "We can have a much lower risk portfolio if we combine assets that are anti-correlated or anti-varianced because when one moves up, the other moves down. They cancel each other out and we have much less volatility.<br/>\n",
    "\n",
    "Often what we are looking for is anti-correlation in the short term and positive correlation in a longer term.\n",
    "\n",
    "<b><font color=blue>Mean Variance Optimization (MVO)</font></b><br/>\n",
    "MVO is a way of taking a potential set of assets and figuring out how they should be blended together by looking at their covariance among other things.\n",
    "\n",
    "![Covariance](images/covariance_3.png) \n",
    "For example, consider a group of assets in th plot and how we might combine them or allocate funds to them to provide a good portfolio.\n",
    "\n",
    "<b>Inputs</b>:\n",
    "* <font color=blue>Expected return</font>: for each stock, we have to provide an expected return. In other words, what do we think in the future it's going to provide in terms of return.\n",
    "* <font color=blue>Volatility</font>: volatility is simply historically how volatile has each one of these assets been.\n",
    "* <font color=blue>Covariance</font>: covariance is a matrix which shows between each asset and every other asset, what is the correlation of daily returns. It takes all of these into account when it is searching for right weighting for each of these stocks in a portfolio  \n",
    "* <font color=blue>Target return</font>: we can target a return anywhere from the max return asset to the min return asset. The dotted line, for instance, is the level of our target return.<br/>\n",
    "\n",
    "<b>Output</b>:\n",
    ": Asset weights, one weight for each asset that provides the target return for portfolio, but minimize the risk. So in the end, we're looking for a portfolio where the orange dot is. In other words, it's got risk that's even lower than any of the individual assets, but it meets the target return. It's possible to find the right blend by considering covariance.\n",
    "\n",
    "\n",
    "<b><font color=blue>The Effecient Frontier</font></b>\n",
    "![Covariance](images/covariance_4.png) \n",
    "Consider these assets and recognize that for any particular return level, there is an optimal portfolio. Suppose we picked the <font color=#b759dd>purple dot</font> as the optimal portfolio (return level). In other words, this <font color=#b759dd>purple dot</font> reflects weightings of all these assets that provides the lowest risk for this particular return.\n",
    "<br/><br/>\n",
    "Then we can compute all the potential returns from the minium return stock up to the maximum.<br/>\n",
    "If we did that for all of them, in fact there's an infinite number of them. We get a line, so our maximum return portfolio is the <font color=#d09d29>orange dot</font> that would consist entirely of that one asset. But as we bring the return down, we find a number of other portfolios all the way down along the curve. When we reduce the return, the curve sometimes comes back shown as the <font color=#d09d29>dotted line</font> indicating that actually the risk is increasing as we reduce the return.<br/><br/>\n",
    "So we typically look only at portfolios on the solid line. The name of the line is the <b>efficient frontier</b> that essentially means there's no portfolios outside the frontier, and any portfolio that's inside the frontier.<br/>\n",
    "That's suboptimal in some way, for instance, we have a <font color=blue>blue dot</font> inside the frontier, which is not efficient because it's either higher risk or lower return than it could be if we were on the efficient frontier.<br/><br/>\n",
    "If we draw a tangent line from the origin to the frontier where it hits is the max sharp ratio portfolio for all of these assets."
   ]
  },
  {
   "cell_type": "code",
   "execution_count": null,
   "metadata": {},
   "outputs": [],
   "source": []
  }
 ],
 "metadata": {
  "kernelspec": {
   "display_name": "Python 3",
   "language": "python",
   "name": "python3"
  },
  "language_info": {
   "codemirror_mode": {
    "name": "ipython",
    "version": 3
   },
   "file_extension": ".py",
   "mimetype": "text/x-python",
   "name": "python",
   "nbconvert_exporter": "python",
   "pygments_lexer": "ipython3",
   "version": "3.7.4"
  }
 },
 "nbformat": 4,
 "nbformat_minor": 2
}
