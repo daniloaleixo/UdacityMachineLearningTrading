{
  "nbformat": 4,
  "nbformat_minor": 0,
  "metadata": {
    "colab": {
      "name": "Strategy 1.ipynb",
      "provenance": [],
      "authorship_tag": "ABX9TyNxDsuWkfSuOQMAiEGR63sj",
      "include_colab_link": true
    },
    "kernelspec": {
      "name": "python3",
      "display_name": "Python 3"
    }
  },
  "cells": [
    {
      "cell_type": "markdown",
      "metadata": {
        "id": "view-in-github",
        "colab_type": "text"
      },
      "source": [
        "<a href=\"https://colab.research.google.com/github/daniloaleixo/UdacityMachineLearningTrading/blob/master/Strategy_1.ipynb\" target=\"_parent\"><img src=\"https://colab.research.google.com/assets/colab-badge.svg\" alt=\"Open In Colab\"/></a>"
      ]
    },
    {
      "cell_type": "markdown",
      "metadata": {
        "id": "nxEwfNtIRaO2",
        "colab_type": "text"
      },
      "source": [
        "# Portolio Rebalancing\n",
        "\n",
        "* Choose the group of stocks\n",
        "* Build a fixed individual position sized long only portfolio by picking **m** number of stocks based on monthly returns\n",
        "* Rebalance the portfolio every month removing the worse **x** stocks and replacing them with top **x** stocks from the universe of stocks\n",
        "* Backtest the strategy and compare the KPIs with that of simple buy and hold strategy "
      ]
    },
    {
      "cell_type": "code",
      "metadata": {
        "id": "DYIjWt9vWjre",
        "colab_type": "code",
        "colab": {}
      },
      "source": [
        "# ==================================================================\n",
        "# Backtesting strategy - I : Monthly portfolio rebalancing\n",
        "# Author : Mayank Rasu\n",
        "# =================================================================="
      ],
      "execution_count": 0,
      "outputs": []
    },
    {
      "cell_type": "code",
      "metadata": {
        "id": "S1qx-sZORh0N",
        "colab_type": "code",
        "colab": {}
      },
      "source": [
        "import numpy as np\n",
        "import pandas as pd\n",
        "import pandas_datareader.data as pdr\n",
        "import datetime\n",
        "import copy\n",
        "import matplotlib.pyplot as plt"
      ],
      "execution_count": 0,
      "outputs": []
    },
    {
      "cell_type": "markdown",
      "metadata": {
        "id": "CgNbvrucSb0_",
        "colab_type": "text"
      },
      "source": [
        "## KPIs"
      ]
    },
    {
      "cell_type": "code",
      "metadata": {
        "id": "EPz90hMcSUaE",
        "colab_type": "code",
        "colab": {}
      },
      "source": [
        "def CAGR(DF):\n",
        "    \"function to calculate the Cumulative Annual Growth Rate of a trading strategy\"\n",
        "    df = DF.copy()\n",
        "    df[\"cum_return\"] = (1 + df[\"mon_ret\"]).cumprod()\n",
        "    n = len(df)/12\n",
        "    CAGR = (df[\"cum_return\"].tolist()[-1])**(1/n) - 1\n",
        "    return CAGR\n",
        "\n",
        "def volatility(DF):\n",
        "    \"function to calculate annualized volatility of a trading strategy\"\n",
        "    df = DF.copy()\n",
        "    vol = df[\"mon_ret\"].std() * np.sqrt(12)\n",
        "    return vol\n",
        "\n",
        "def sharpe(DF,rf):\n",
        "    \"function to calculate sharpe ratio ; rf is the risk free rate\"\n",
        "    df = DF.copy()\n",
        "    sr = (CAGR(df) - rf)/volatility(df)\n",
        "    return sr\n",
        "    \n",
        "\n",
        "def max_dd(DF):\n",
        "    \"function to calculate max drawdown\"\n",
        "    df = DF.copy()\n",
        "    df[\"cum_return\"] = (1 + df[\"mon_ret\"]).cumprod()\n",
        "    df[\"cum_roll_max\"] = df[\"cum_return\"].cummax()\n",
        "    df[\"drawdown\"] = df[\"cum_roll_max\"] - df[\"cum_return\"]\n",
        "    df[\"drawdown_pct\"] = df[\"drawdown\"]/df[\"cum_roll_max\"]\n",
        "    max_dd = df[\"drawdown_pct\"].max()\n",
        "    return max_dd"
      ],
      "execution_count": 0,
      "outputs": []
    },
    {
      "cell_type": "markdown",
      "metadata": {
        "id": "i32G05NdS3pt",
        "colab_type": "text"
      },
      "source": [
        "## Download historical data"
      ]
    },
    {
      "cell_type": "code",
      "metadata": {
        "id": "qGDPn4PWSeZe",
        "colab_type": "code",
        "colab": {}
      },
      "source": [
        "tickers = [\"MMM\",\"AXP\",\"T\",\"BA\",\"CAT\",\"CVX\",\"CSCO\",\"KO\", \"XOM\",\"GE\",\"GS\",\"HD\",\n",
        "           \"IBM\",\"INTC\",\"JNJ\",\"JPM\",\"MCD\",\"MRK\",\"MSFT\",\"NKE\",\"PFE\",\"PG\",\"TRV\",\n",
        "           \"UTX\",\"UNH\",\"VZ\",\"V\",\"WMT\",\"DIS\"]\n",
        "\n",
        "ohlc_mon = {} # directory with ohlc value for each stock            \n",
        "attempt = 0 # initializing passthrough variable\n",
        "drop = [] # initializing list to store tickers whose close price was successfully extracted\n",
        "while len(tickers) != 0 and attempt <= 5:\n",
        "    tickers = [j for j in tickers if j not in drop] # removing stocks whose data has been extracted from the ticker list\n",
        "    for i in range(len(tickers)):\n",
        "        try:\n",
        "            ohlc_mon[tickers[i]] = pdr.get_data_yahoo(tickers[i],datetime.date.today()-datetime.timedelta(1900),datetime.date.today(),interval='m')\n",
        "            ohlc_mon[tickers[i]].dropna(inplace = True)\n",
        "            drop.append(tickers[i])       \n",
        "        except:\n",
        "            print(tickers[i],\" :failed to fetch data...retrying\")\n",
        "            continue\n",
        "    attempt+=1\n",
        " \n",
        "tickers = ohlc_mon.keys() # redefine tickers variable after removing any tickers with corrupted data"
      ],
      "execution_count": 0,
      "outputs": []
    },
    {
      "cell_type": "markdown",
      "metadata": {
        "id": "GdO9rKZsS_mx",
        "colab_type": "text"
      },
      "source": [
        "## Backtesting"
      ]
    },
    {
      "cell_type": "code",
      "metadata": {
        "id": "F4A7Zs_yS5Xp",
        "colab_type": "code",
        "colab": {
          "base_uri": "https://localhost:8080/",
          "height": 510
        },
        "outputId": "da65cb3a-6742-4083-a9dd-0eb854105309"
      },
      "source": [
        "# calculating monthly return for each stock and consolidating return info by stock in a separate dataframe\n",
        "ohlc_dict = copy.deepcopy(ohlc_mon)\n",
        "return_df = pd.DataFrame()\n",
        "for ticker in tickers:\n",
        "    print(\"calculating monthly return for \",ticker)\n",
        "    ohlc_dict[ticker][\"mon_ret\"] = ohlc_dict[ticker][\"Adj Close\"].pct_change()\n",
        "    return_df[ticker] = ohlc_dict[ticker][\"mon_ret\"]\n",
        "\n",
        "\n",
        "# function to calculate portfolio return iteratively\n",
        "def pflio(DF,m,x):\n",
        "    \"\"\"Returns cumulative portfolio return\n",
        "    DF = dataframe with monthly return info for all stocks\n",
        "    m = number of stock in the portfolio\n",
        "    x = number of underperforming stocks to be removed from portfolio monthly\"\"\"\n",
        "    df = DF.copy()\n",
        "    portfolio = []\n",
        "    monthly_ret = [0]\n",
        "    for i in range(1,len(df)):\n",
        "        if len(portfolio) > 0:\n",
        "            monthly_ret.append(df[portfolio].iloc[i,:].mean())\n",
        "            bad_stocks = df[portfolio].iloc[i,:].sort_values(ascending=True)[:x].index.values.tolist()\n",
        "            portfolio = [t for t in portfolio if t not in bad_stocks]\n",
        "        fill = m - len(portfolio)\n",
        "        new_picks = df.iloc[i,:].sort_values(ascending=False)[:fill].index.values.tolist()\n",
        "        portfolio = portfolio + new_picks\n",
        "        print(portfolio)\n",
        "    monthly_ret_df = pd.DataFrame(np.array(monthly_ret),columns=[\"mon_ret\"])\n",
        "    return monthly_ret_df"
      ],
      "execution_count": 4,
      "outputs": [
        {
          "output_type": "stream",
          "text": [
            "calculating monthly return for  MMM\n",
            "calculating monthly return for  AXP\n",
            "calculating monthly return for  T\n",
            "calculating monthly return for  BA\n",
            "calculating monthly return for  CAT\n",
            "calculating monthly return for  CVX\n",
            "calculating monthly return for  CSCO\n",
            "calculating monthly return for  KO\n",
            "calculating monthly return for  XOM\n",
            "calculating monthly return for  GE\n",
            "calculating monthly return for  GS\n",
            "calculating monthly return for  HD\n",
            "calculating monthly return for  IBM\n",
            "calculating monthly return for  INTC\n",
            "calculating monthly return for  JNJ\n",
            "calculating monthly return for  JPM\n",
            "calculating monthly return for  MCD\n",
            "calculating monthly return for  MRK\n",
            "calculating monthly return for  MSFT\n",
            "calculating monthly return for  NKE\n",
            "calculating monthly return for  PFE\n",
            "calculating monthly return for  PG\n",
            "calculating monthly return for  TRV\n",
            "calculating monthly return for  UTX\n",
            "calculating monthly return for  UNH\n",
            "calculating monthly return for  VZ\n",
            "calculating monthly return for  V\n",
            "calculating monthly return for  WMT\n",
            "calculating monthly return for  DIS\n"
          ],
          "name": "stdout"
        }
      ]
    },
    {
      "cell_type": "code",
      "metadata": {
        "id": "-jG7pfrtTHix",
        "colab_type": "code",
        "colab": {
          "base_uri": "https://localhost:8080/",
          "height": 1000
        },
        "outputId": "d0c88629-fd56-4305-e07f-cf9fed5915a5"
      },
      "source": [
        "portfolio_return = pflio(return_df,6,3) "
      ],
      "execution_count": 6,
      "outputs": [
        {
          "output_type": "stream",
          "text": [
            "['DIS', 'JPM', 'CSCO', 'GS', 'HD', 'PFE']\n",
            "['DIS', 'GS', 'PFE', 'UNH', 'NKE', 'PFE']\n",
            "['DIS', 'GS', 'NKE', 'MSFT', 'GE', 'CAT']\n",
            "['DIS', 'GS', 'NKE', 'UNH', 'INTC', 'GS']\n",
            "['DIS', 'NKE', 'NKE', 'DIS', 'JPM', 'T']\n",
            "['NKE', 'NKE', 'V', 'TRV', 'PFE', 'NKE']\n",
            "['NKE', 'NKE', 'NKE', 'AXP', 'GE', 'HD']\n",
            "['NKE', 'NKE', 'NKE', 'NKE', 'INTC', 'MSFT']\n",
            "['INTC', 'MSFT', 'MSFT', 'GE', 'CVX', 'TRV']\n",
            "['MSFT', 'MSFT', 'GE', 'HD', 'JPM', 'GE']\n",
            "['GE', 'GE', 'PG', 'UNH', 'MCD', 'WMT']\n",
            "['PG', 'MCD', 'WMT', 'WMT', 'VZ', 'T']\n",
            "['VZ', 'T', 'CAT', 'CSCO', 'UTX', 'IBM']\n",
            "['CAT', 'CSCO', 'IBM', 'IBM', 'CVX', 'CAT']\n",
            "['CAT', 'CVX', 'CAT', 'PFE', 'CVX', 'JPM']\n",
            "['PFE', 'JPM', 'CSCO', 'MSFT', 'PFE', 'WMT']\n",
            "['PFE', 'PFE', 'WMT', 'T', 'VZ', 'JNJ']\n",
            "['PFE', 'PFE', 'JNJ', 'MSFT', 'CAT', 'HD']\n",
            "['MSFT', 'CAT', 'HD', 'MRK', 'GS', 'JPM']\n",
            "['MSFT', 'CAT', 'MRK', 'CAT', 'INTC', 'CVX']\n",
            "['MSFT', 'MRK', 'CVX', 'GS', 'BA', 'MSFT']\n",
            "['CVX', 'GS', 'BA', 'GS', 'JPM', 'CAT']\n",
            "['GS', 'GS', 'JPM', 'GS', 'TRV', 'VZ']\n",
            "['JPM', 'TRV', 'DIS', 'MRK', 'V', 'IBM']\n",
            "['JPM', 'MRK', 'V', 'CSCO', 'BA', 'GS']\n",
            "['V', 'CSCO', 'BA', 'MSFT', 'MMM', 'DIS']\n",
            "['V', 'BA', 'MSFT', 'CAT', 'MCD', 'UNH']\n",
            "['V', 'CAT', 'MCD', 'MCD', 'KO', 'WMT']\n",
            "['CAT', 'MCD', 'MCD', 'NKE', 'JPM', 'AXP']\n",
            "['CAT', 'MCD', 'MCD', 'BA', 'VZ', 'V']\n",
            "['CAT', 'V', 'V', 'CAT', 'UNH', 'CSCO']\n",
            "['CAT', 'CAT', 'CSCO', 'CVX', 'HD', 'INTC']\n",
            "['CAT', 'CAT', 'INTC', 'INTC', 'WMT', 'MSFT']\n",
            "['CAT', 'CAT', 'WMT', 'WMT', 'NKE', 'T']\n",
            "['CAT', 'CAT', 'T', 'CAT', 'BA', 'T']\n",
            "['BA', 'BA', 'TRV', 'MSFT', 'NKE', 'V']\n",
            "['BA', 'BA', 'V', 'CSCO', 'INTC', 'BA']\n",
            "['V', 'CSCO', 'INTC', 'INTC', 'CVX', 'PG']\n",
            "['V', 'CSCO', 'CVX', 'UNH', 'CVX', 'MRK']\n",
            "['V', 'UNH', 'MRK', 'INTC', 'CAT', 'MSFT']\n",
            "['V', 'UNH', 'MRK', 'NKE', 'PG', 'VZ']\n",
            "['UNH', 'MRK', 'PG', 'JPM', 'PFE', 'MRK']\n",
            "['UNH', 'MRK', 'MRK', 'CSCO', 'WMT', 'V']\n",
            "['MRK', 'MRK', 'V', 'CAT', 'BA', 'XOM']\n",
            "['MRK', 'MRK', 'BA', 'VZ', 'WMT', 'PG']\n",
            "['MRK', 'MRK', 'PG', 'CAT', 'AXP', 'MMM']\n",
            "['MRK', 'MRK', 'PG', 'GE', 'NKE', 'PG']\n",
            "['GE', 'NKE', 'GE', 'BA', 'GS', 'IBM']\n",
            "['GE', 'GE', 'BA', 'BA', 'INTC', 'CSCO']\n",
            "['INTC', 'CSCO', 'MSFT', 'V', 'PG', 'CSCO']\n",
            "['MSFT', 'V', 'DIS', 'JPM', 'MSFT', 'UTX']\n",
            "['V', 'DIS', 'UNH', 'PFE', 'TRV', 'MRK']\n",
            "['V', 'DIS', 'MRK', 'CAT', 'GS', 'GE']\n",
            "['V', 'DIS', 'GS', 'PG', 'GS', 'IBM']\n",
            "['V', 'DIS', 'PG', 'BA', 'HD', 'VZ']\n",
            "['PG', 'BA', 'VZ', 'NKE', 'INTC', 'IBM']\n",
            "['PG', 'VZ', 'INTC', 'UNH', 'GE', 'INTC']\n",
            "['UNH', 'GE', 'DIS', 'GE', 'UNH', 'BA']\n",
            "['UNH', 'UNH', 'NKE', 'JNJ', 'CSCO', 'JPM']\n",
            "['NKE', 'JNJ', 'CSCO', 'GE', 'MCD', 'MSFT']\n",
            "['NKE', 'MCD', 'MSFT', 'HD', 'CAT', 'MSFT']\n",
            "['MSFT', 'HD', 'MSFT', 'WMT', 'UNH', 'MSFT']\n",
            "['WMT', 'UNH', 'DIS', 'INTC', 'AXP', 'T']\n"
          ],
          "name": "stdout"
        }
      ]
    },
    {
      "cell_type": "code",
      "metadata": {
        "id": "BPy1it7vVXck",
        "colab_type": "code",
        "colab": {
          "base_uri": "https://localhost:8080/",
          "height": 34
        },
        "outputId": "5215657c-3f54-422c-d55e-48d5302f1ed2"
      },
      "source": [
        "#calculating overall strategy's KPIs\n",
        "cagr = CAGR(portfolio_return)\n",
        "SR  = sharpe(portfolio_return,0.025)\n",
        "dd = max_dd(portfolio_return)\n",
        "\n",
        "print(\"Portfolio ==> CAGR: \", cagr * 100, \"% - sharpe: \", SR, \" - dd: \", dd*100, \"%\")"
      ],
      "execution_count": 11,
      "outputs": [
        {
          "output_type": "stream",
          "text": [
            "Portfolio ==> CAGR:  11.570632561341165 % - sharpe:  0.6578355868332897  - dd:  16.057119560105367 %\n"
          ],
          "name": "stdout"
        }
      ]
    },
    {
      "cell_type": "code",
      "metadata": {
        "id": "OcEcMllcTMQP",
        "colab_type": "code",
        "colab": {
          "base_uri": "https://localhost:8080/",
          "height": 34
        },
        "outputId": "bd8879f8-1c0b-4ec2-a3a8-a9b711b73659"
      },
      "source": [
        "#calculating KPIs for Index buy and hold strategy over the same period\n",
        "DJI = pdr.get_data_yahoo(\"^DJI\",datetime.date.today()-datetime.timedelta(1900),datetime.date.today(),interval='m')\n",
        "DJI[\"mon_ret\"] = DJI[\"Adj Close\"].pct_change()\n",
        "\n",
        "#Dow\n",
        "djC = CAGR(DJI)\n",
        "djS = sharpe(DJI,0.025)\n",
        "djM = max_dd(DJI)\n",
        "\n",
        "print(\"Dow Jones Index ==> CAGR: \", djC*100, \"% - sharpe: \", djS, \" - dd: \", djM*100,\"%\")"
      ],
      "execution_count": 12,
      "outputs": [
        {
          "output_type": "stream",
          "text": [
            "Dow Jones Index ==> CAGR:  8.638938668611251 % - sharpe:  0.47793466070515694  - dd:  11.833142572834387 %\n"
          ],
          "name": "stdout"
        }
      ]
    },
    {
      "cell_type": "code",
      "metadata": {
        "id": "8boRgwepUYFK",
        "colab_type": "code",
        "colab": {
          "base_uri": "https://localhost:8080/",
          "height": 312
        },
        "outputId": "c237baec-99b0-4828-f8ea-69aca62cfecb"
      },
      "source": [
        "#visualization\n",
        "fig, ax = plt.subplots()\n",
        "plt.plot((1+portfolio_return).cumprod())\n",
        "plt.plot((1+DJI[\"mon_ret\"][2:].reset_index(drop=True)).cumprod())\n",
        "plt.title(\"Index Return vs Strategy Return\")\n",
        "plt.ylabel(\"cumulative return\")\n",
        "plt.xlabel(\"months\")\n",
        "ax.legend([\"Strategy Return\",\"Index Return\"])"
      ],
      "execution_count": 13,
      "outputs": [
        {
          "output_type": "execute_result",
          "data": {
            "text/plain": [
              "<matplotlib.legend.Legend at 0x7ff60ad1d6d8>"
            ]
          },
          "metadata": {
            "tags": []
          },
          "execution_count": 13
        },
        {
          "output_type": "display_data",
          "data": {
            "image/png": "[encoded data removed]",
            "text/plain": [
              "<Figure size 432x288 with 1 Axes>"
            ]
          },
          "metadata": {
            "tags": []
          }
        }
      ]
    },
    {
      "cell_type": "code",
      "metadata": {
        "id": "_EW0wsmMUhRJ",
        "colab_type": "code",
        "colab": {}
      },
      "source": [
        ""
      ],
      "execution_count": 0,
      "outputs": []
    }
  ]
}